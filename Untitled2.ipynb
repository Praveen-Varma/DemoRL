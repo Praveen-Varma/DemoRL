{
  "nbformat": 4,
  "nbformat_minor": 0,
  "metadata": {
    "colab": {
      "name": "Untitled2.ipynb",
      "provenance": [],
      "authorship_tag": "ABX9TyMIPC/wclw+LjOMRgpawEKD",
      "include_colab_link": true
    },
    "kernelspec": {
      "name": "python3",
      "display_name": "Python 3"
    }
  },
  "cells": [
    {
      "cell_type": "markdown",
      "metadata": {
        "id": "view-in-github",
        "colab_type": "text"
      },
      "source": [
        "<a href=\"https://colab.research.google.com/github/Praveen-Varma/DemoRL/blob/master/Untitled2.ipynb\" target=\"_parent\"><img src=\"https://colab.research.google.com/assets/colab-badge.svg\" alt=\"Open In Colab\"/></a>"
      ]
    },
    {
      "cell_type": "code",
      "metadata": {
        "id": "dMlt6naWeGwq",
        "colab_type": "code",
        "colab": {}
      },
      "source": [
        "import numpy as np\n",
        "import random\n",
        "from IPython.display import clear_output\n",
        "import gym"
      ],
      "execution_count": 0,
      "outputs": []
    },
    {
      "cell_type": "code",
      "metadata": {
        "id": "z1vk3LNWfW2h",
        "colab_type": "code",
        "colab": {
          "base_uri": "https://localhost:8080/",
          "height": 187
        },
        "outputId": "93875d4e-1cf2-4eec-8401-bec53cd6dc01"
      },
      "source": [
        "enviroment = gym.make(\"Taxi-v3\").env\n",
        "enviroment.render()\n",
        "\n",
        "print('Number of states: {}'.format(enviroment.observation_space.n))\n",
        "print('Number of actions: {}'.format(enviroment.action_space.n))"
      ],
      "execution_count": 3,
      "outputs": [
        {
          "output_type": "stream",
          "text": [
            "+---------+\n",
            "|R: | : :\u001b[34;1mG\u001b[0m|\n",
            "| : | : : |\n",
            "| : : : : |\n",
            "| | : | : |\n",
            "|Y| :\u001b[43m \u001b[0m|\u001b[35mB\u001b[0m: |\n",
            "+---------+\n",
            "\n",
            "Number of states: 500\n",
            "Number of actions: 6\n"
          ],
          "name": "stdout"
        }
      ]
    },
    {
      "cell_type": "code",
      "metadata": {
        "id": "DJZXXCMnfX04",
        "colab_type": "code",
        "colab": {}
      },
      "source": [
        "\n",
        "alpha = 0.1\n",
        "gamma = 0.6\n",
        "epsilon = 0.1\n",
        "q_table = np.zeros([enviroment.observation_space.n, enviroment.action_space.n])"
      ],
      "execution_count": 0,
      "outputs": []
    },
    {
      "cell_type": "code",
      "metadata": {
        "id": "oiM8YhrCfi5f",
        "colab_type": "code",
        "colab": {
          "base_uri": "https://localhost:8080/",
          "height": 238
        },
        "outputId": "965d5e2d-9490-4a88-cfce-93f07db4e73f"
      },
      "source": [
        "num_of_episodes = 10000\n",
        "\n",
        "for episode in range(0, num_of_episodes):\n",
        "    # Reset the enviroment\n",
        "    state = enviroment.reset()\n",
        "\n",
        "    # Initialize variables\n",
        "    reward = 0\n",
        "    terminated = False\n",
        "    \n",
        "    while not terminated:\n",
        "        # Take learned path or explore new actions based on the epsilon\n",
        "        if random.uniform(0, 1) < epsilon:\n",
        "            action = enviroment.action_space.sample()\n",
        "        else:\n",
        "            action = np.argmax(q_table[state])\n",
        "\n",
        "        # Take action    \n",
        "        next_state, reward, terminated, info = enviroment.step(action) \n",
        "        \n",
        "        # Recalculate\n",
        "        q_value = q_table[state, action]\n",
        "        max_value = np.max(q_table[next_state])\n",
        "        new_q_value = (1 - alpha) * q_value + alpha * (reward + gamma * max_value)\n",
        "        \n",
        "        # Update Q-table\n",
        "        q_table[state, action] = new_q_value\n",
        "        state = next_state\n",
        "        \n",
        "    if (episode + 1) % 100 == 0:\n",
        "        clear_output(wait=True)\n",
        "        print(\"Episode: {}\".format(episode + 1))\n",
        "        enviroment.render()\n",
        "\n",
        "print(\"**********************************\")\n",
        "print(\"Training is done!\\n\")\n",
        "print(\"**********************************\")"
      ],
      "execution_count": 5,
      "outputs": [
        {
          "output_type": "stream",
          "text": [
            "Episode: 100000\n",
            "+---------+\n",
            "|R: | : :G|\n",
            "| : | : : |\n",
            "| : : : : |\n",
            "| | : | : |\n",
            "|Y| : |\u001b[35m\u001b[34;1m\u001b[43mB\u001b[0m\u001b[0m\u001b[0m: |\n",
            "+---------+\n",
            "  (Dropoff)\n",
            "**********************************\n",
            "Training is done!\n",
            "\n",
            "**********************************\n"
          ],
          "name": "stdout"
        }
      ]
    },
    {
      "cell_type": "code",
      "metadata": {
        "id": "b4WKNdhZf466",
        "colab_type": "code",
        "colab": {
          "base_uri": "https://localhost:8080/",
          "height": 102
        },
        "outputId": "d8547d03-1081-4f5c-b9ab-60674dc7253d"
      },
      "source": [
        "\n",
        "total_epochs = 0\n",
        "total_penalties = 0\n",
        "num_of_episodes = 100\n",
        "\n",
        "for _ in range(num_of_episodes):\n",
        "    state = enviroment.reset()\n",
        "    epochs = 0\n",
        "    penalties = 0\n",
        "    reward = 0\n",
        "    \n",
        "    terminated = False\n",
        "    \n",
        "    while not terminated:\n",
        "        action = np.argmax(q_table[state])\n",
        "        state, reward, terminated, info = enviroment.step(action)\n",
        "\n",
        "        if reward == -10:\n",
        "            penalties += 1\n",
        "\n",
        "        epochs += 1\n",
        "\n",
        "    total_penalties += penalties\n",
        "    total_epochs += epochs\n",
        "\n",
        "print(\"**********************************\")\n",
        "print(\"Results\")\n",
        "print(\"**********************************\")\n",
        "print(\"Epochs per episode: {}\".format(total_epochs / num_of_episodes))\n",
        "print(\"Penalties per episode: {}\".format(total_penalties / num_of_episodes))"
      ],
      "execution_count": 6,
      "outputs": [
        {
          "output_type": "stream",
          "text": [
            "**********************************\n",
            "Results\n",
            "**********************************\n",
            "Epochs per episode: 12.64\n",
            "Penalties per episode: 0.0\n"
          ],
          "name": "stdout"
        }
      ]
    }
  ]
}